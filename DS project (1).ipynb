{
 "cells": [
  {
   "cell_type": "code",
   "execution_count": 261,
   "id": "0a45dadc",
   "metadata": {},
   "outputs": [],
   "source": [
    "import numpy as np\n",
    "import pandas as pd\n",
    "import matplotlib.pyplot as plt\n",
    "import datetime as dt"
   ]
  },
  {
   "cell_type": "code",
   "execution_count": 262,
   "id": "bd10301f",
   "metadata": {},
   "outputs": [],
   "source": [
    "df = pd.read_csv(\"Comcast_telecom_complaints_data.csv\")      # Reading the dataset into a dataframe using pandas"
   ]
  },
  {
   "cell_type": "code",
   "execution_count": 263,
   "id": "618a5e16",
   "metadata": {},
   "outputs": [
    {
     "data": {
      "text/html": [
       "<div>\n",
       "<style scoped>\n",
       "    .dataframe tbody tr th:only-of-type {\n",
       "        vertical-align: middle;\n",
       "    }\n",
       "\n",
       "    .dataframe tbody tr th {\n",
       "        vertical-align: top;\n",
       "    }\n",
       "\n",
       "    .dataframe thead th {\n",
       "        text-align: right;\n",
       "    }\n",
       "</style>\n",
       "<table border=\"1\" class=\"dataframe\">\n",
       "  <thead>\n",
       "    <tr style=\"text-align: right;\">\n",
       "      <th></th>\n",
       "      <th>Ticket #</th>\n",
       "      <th>Customer Complaint</th>\n",
       "      <th>Date</th>\n",
       "      <th>Date_month_year</th>\n",
       "      <th>Time</th>\n",
       "      <th>Received Via</th>\n",
       "      <th>City</th>\n",
       "      <th>State</th>\n",
       "      <th>Zip code</th>\n",
       "      <th>Status</th>\n",
       "      <th>Filing on Behalf of Someone</th>\n",
       "    </tr>\n",
       "  </thead>\n",
       "  <tbody>\n",
       "    <tr>\n",
       "      <th>0</th>\n",
       "      <td>250635</td>\n",
       "      <td>Comcast Cable Internet Speeds</td>\n",
       "      <td>22-04-15</td>\n",
       "      <td>22-Apr-15</td>\n",
       "      <td>3:53:50 PM</td>\n",
       "      <td>Customer Care Call</td>\n",
       "      <td>Abingdon</td>\n",
       "      <td>Maryland</td>\n",
       "      <td>21009</td>\n",
       "      <td>Closed</td>\n",
       "      <td>No</td>\n",
       "    </tr>\n",
       "    <tr>\n",
       "      <th>1</th>\n",
       "      <td>223441</td>\n",
       "      <td>Payment disappear - service got disconnected</td>\n",
       "      <td>04-08-15</td>\n",
       "      <td>04-Aug-15</td>\n",
       "      <td>10:22:56 AM</td>\n",
       "      <td>Internet</td>\n",
       "      <td>Acworth</td>\n",
       "      <td>Georgia</td>\n",
       "      <td>30102</td>\n",
       "      <td>Closed</td>\n",
       "      <td>No</td>\n",
       "    </tr>\n",
       "    <tr>\n",
       "      <th>2</th>\n",
       "      <td>242732</td>\n",
       "      <td>Speed and Service</td>\n",
       "      <td>18-04-15</td>\n",
       "      <td>18-Apr-15</td>\n",
       "      <td>9:55:47 AM</td>\n",
       "      <td>Internet</td>\n",
       "      <td>Acworth</td>\n",
       "      <td>Georgia</td>\n",
       "      <td>30101</td>\n",
       "      <td>Closed</td>\n",
       "      <td>Yes</td>\n",
       "    </tr>\n",
       "    <tr>\n",
       "      <th>3</th>\n",
       "      <td>277946</td>\n",
       "      <td>Comcast Imposed a New Usage Cap of 300GB that ...</td>\n",
       "      <td>05-07-15</td>\n",
       "      <td>05-Jul-15</td>\n",
       "      <td>11:59:35 AM</td>\n",
       "      <td>Internet</td>\n",
       "      <td>Acworth</td>\n",
       "      <td>Georgia</td>\n",
       "      <td>30101</td>\n",
       "      <td>Open</td>\n",
       "      <td>Yes</td>\n",
       "    </tr>\n",
       "    <tr>\n",
       "      <th>4</th>\n",
       "      <td>307175</td>\n",
       "      <td>Comcast not working and no service to boot</td>\n",
       "      <td>26-05-15</td>\n",
       "      <td>26-May-15</td>\n",
       "      <td>1:25:26 PM</td>\n",
       "      <td>Internet</td>\n",
       "      <td>Acworth</td>\n",
       "      <td>Georgia</td>\n",
       "      <td>30101</td>\n",
       "      <td>Solved</td>\n",
       "      <td>No</td>\n",
       "    </tr>\n",
       "  </tbody>\n",
       "</table>\n",
       "</div>"
      ],
      "text/plain": [
       "  Ticket #                                 Customer Complaint      Date  \\\n",
       "0   250635                      Comcast Cable Internet Speeds  22-04-15   \n",
       "1   223441       Payment disappear - service got disconnected  04-08-15   \n",
       "2   242732                                  Speed and Service  18-04-15   \n",
       "3   277946  Comcast Imposed a New Usage Cap of 300GB that ...  05-07-15   \n",
       "4   307175         Comcast not working and no service to boot  26-05-15   \n",
       "\n",
       "  Date_month_year         Time        Received Via      City     State  \\\n",
       "0       22-Apr-15   3:53:50 PM  Customer Care Call  Abingdon  Maryland   \n",
       "1       04-Aug-15  10:22:56 AM            Internet   Acworth   Georgia   \n",
       "2       18-Apr-15   9:55:47 AM            Internet   Acworth   Georgia   \n",
       "3       05-Jul-15  11:59:35 AM            Internet   Acworth   Georgia   \n",
       "4       26-May-15   1:25:26 PM            Internet   Acworth   Georgia   \n",
       "\n",
       "   Zip code  Status Filing on Behalf of Someone  \n",
       "0     21009  Closed                          No  \n",
       "1     30102  Closed                          No  \n",
       "2     30101  Closed                         Yes  \n",
       "3     30101    Open                         Yes  \n",
       "4     30101  Solved                          No  "
      ]
     },
     "execution_count": 263,
     "metadata": {},
     "output_type": "execute_result"
    }
   ],
   "source": [
    "df.head()                                                    # Checking the first five rows of the dataset"
   ]
  },
  {
   "cell_type": "code",
   "execution_count": 264,
   "id": "a7379219",
   "metadata": {},
   "outputs": [
    {
     "data": {
      "text/plain": [
       "Ticket #                       0\n",
       "Customer Complaint             0\n",
       "Date                           0\n",
       "Date_month_year                0\n",
       "Time                           0\n",
       "Received Via                   0\n",
       "City                           0\n",
       "State                          0\n",
       "Zip code                       0\n",
       "Status                         0\n",
       "Filing on Behalf of Someone    0\n",
       "dtype: int64"
      ]
     },
     "execution_count": 264,
     "metadata": {},
     "output_type": "execute_result"
    }
   ],
   "source": [
    "df.isna().sum()            # Checking to see if there are any NAN values"
   ]
  },
  {
   "cell_type": "code",
   "execution_count": 265,
   "id": "dc5916f5",
   "metadata": {},
   "outputs": [],
   "source": [
    "df[\"Date_month_year\"] = pd.to_datetime(df[\"Date_month_year\"])         # Converting the column into date time format\n",
    "df[\"Month\"]=df[\"Date_month_year\"].dt.month_name()                     # Finding out the month corresponding to the date\n",
    "df[\"Date\"]= df[\"Date_month_year\"].dt.day                              # finding out the day corresponding to the date\n",
    "df.set_index(\"Date_month_year\",inplace=True)                          # Setting the date time column as index"
   ]
  },
  {
   "cell_type": "code",
   "execution_count": 266,
   "id": "df72e2ed",
   "metadata": {
    "scrolled": false
   },
   "outputs": [
    {
     "data": {
      "image/png": "[encoded data removed]",
      "text/plain": [
       "<Figure size 432x288 with 1 Axes>"
      ]
     },
     "metadata": {
      "needs_background": "light"
     },
     "output_type": "display_data"
    }
   ],
   "source": [
    "df.groupby(pd.Grouper(freq=\"M\")).size().plot()             # Grouping the data on the basis of Monthly frequncy and plotting the graph\n",
    "plt.xlabel(\"Months\")\n",
    "plt.ylabel(\"Frequency of complaints\")\n",
    "plt.title(\"Complaint trend chart\")\n",
    "plt.show()"
   ]
  },
  {
   "cell_type": "markdown",
   "id": "d03be5ad",
   "metadata": {},
   "source": [
    "The above graph shows that maximum complaints were in the month of June"
   ]
  },
  {
   "cell_type": "code",
   "execution_count": 267,
   "id": "a6c5681d",
   "metadata": {},
   "outputs": [
    {
     "data": {
      "image/png": "[encoded data removed]",
      "text/plain": [
       "<Figure size 432x288 with 1 Axes>"
      ]
     },
     "metadata": {
      "needs_background": "light"
     },
     "output_type": "display_data"
    }
   ],
   "source": [
    "df.groupby(\"Date\").size().plot()                # Grouping the data on the basis of date and plotting the graph\n",
    "plt.xlabel(\"Dates\")\n",
    "plt.ylabel(\"Frequencyt of complaints\")\n",
    "plt.title(\"DAILY TREND CHART\")\n",
    "plt.show()"
   ]
  },
  {
   "cell_type": "markdown",
   "id": "a0bd508b",
   "metadata": {},
   "source": [
    "The above graph shows that maximum complaints were received between the days of 5th and 10th followed by between 20th and 25th "
   ]
  },
  {
   "cell_type": "code",
   "execution_count": 268,
   "id": "702d82dc",
   "metadata": {},
   "outputs": [
    {
     "data": {
      "text/plain": [
       "Date_month_year\n",
       "2015-04-22                        Comcast Cable Internet Speeds\n",
       "2015-08-04         Payment disappear - service got disconnected\n",
       "2015-04-18                                    Speed and Service\n",
       "2015-07-05    Comcast Imposed a New Usage Cap of 300GB that ...\n",
       "2015-05-26           Comcast not working and no service to boot\n",
       "                                    ...                        \n",
       "2015-02-04                                 Service Availability\n",
       "2015-02-06           Comcast Monthly Billing for Returned Modem\n",
       "2015-09-06                              complaint about comcast\n",
       "2015-06-23               Extremely unsatisfied Comcast customer\n",
       "2015-06-24                 Comcast, Ypsilanti MI Internet Speed\n",
       "Name: Customer Complaint, Length: 2224, dtype: object"
      ]
     },
     "execution_count": 268,
     "metadata": {},
     "output_type": "execute_result"
    }
   ],
   "source": [
    "df[\"Customer Complaint\"]"
   ]
  },
  {
   "cell_type": "code",
   "execution_count": 269,
   "id": "95428802",
   "metadata": {},
   "outputs": [
    {
     "data": {
      "text/plain": [
       "<AxesSubplot:>"
      ]
     },
     "execution_count": 269,
     "metadata": {},
     "output_type": "execute_result"
    },
    {
     "data": {
      "image/png": "[encoded data removed]",
      "text/plain": [
       "<Figure size 432x288 with 1 Axes>"
      ]
     },
     "metadata": {
      "needs_background": "light"
     },
     "output_type": "display_data"
    }
   ],
   "source": [
    "df['Customer Complaint'].value_counts()[:9].plot.bar()        # Plotting a bar graph based on the last 9 values"
   ]
  },
  {
   "cell_type": "code",
   "execution_count": 270,
   "id": "54ef2f21",
   "metadata": {},
   "outputs": [
    {
     "data": {
      "text/plain": [
       "Ticket #                       374\n",
       "Customer Complaint             374\n",
       "Date                           374\n",
       "Time                           374\n",
       "Received Via                   374\n",
       "City                           374\n",
       "State                          374\n",
       "Zip code                       374\n",
       "Status                         374\n",
       "Filing on Behalf of Someone    374\n",
       "Month                          374\n",
       "dtype: int64"
      ]
     },
     "execution_count": 270,
     "metadata": {},
     "output_type": "execute_result"
    }
   ],
   "source": [
    "# Finding the count of complaints in whom string contains the keywords related to internet issues\n",
    "\n",
    "internet_issues1=df[df['Customer Complaint'].str.contains(\"network\")].count()    \n",
    "internet_issues2=df[df['Customer Complaint'].str.contains(\"speed\")].count()\n",
    "internet_issues3=df[df['Customer Complaint'].str.contains(\"data\")].count()\n",
    "internet_issues4=df[df['Customer Complaint'].str.contains(\"internet\")].count()\n",
    "internet_issues = internet_issues1+internet_issues2+internet_issues3+internet_issues4\n",
    "internet_issues"
   ]
  },
  {
   "cell_type": "code",
   "execution_count": 271,
   "id": "a13582fb",
   "metadata": {},
   "outputs": [
    {
     "data": {
      "text/plain": [
       "Ticket #                       353\n",
       "Customer Complaint             353\n",
       "Date                           353\n",
       "Time                           353\n",
       "Received Via                   353\n",
       "City                           353\n",
       "State                          353\n",
       "Zip code                       353\n",
       "Status                         353\n",
       "Filing on Behalf of Someone    353\n",
       "Month                          353\n",
       "dtype: int64"
      ]
     },
     "execution_count": 271,
     "metadata": {},
     "output_type": "execute_result"
    }
   ],
   "source": [
    "# Finding the count of complaints in whom string contains the keywords related to billing issues\n",
    "\n",
    "billing_issues1=df[df['Customer Complaint'].str.contains(\"bill\")].count()\n",
    "billing_issues2=df[df['Customer Complaint'].str.contains(\"billing\")].count()\n",
    "billing_issues3=df[df['Customer Complaint'].str.contains(\"charges\")].count()\n",
    "billing_issues = billing_issues1+billing_issues2+billing_issues3\n",
    "billing_issues"
   ]
  },
  {
   "cell_type": "code",
   "execution_count": 272,
   "id": "39232295",
   "metadata": {},
   "outputs": [
    {
     "data": {
      "text/plain": [
       "Ticket #                       360\n",
       "Customer Complaint             360\n",
       "Date                           360\n",
       "Time                           360\n",
       "Received Via                   360\n",
       "City                           360\n",
       "State                          360\n",
       "Zip code                       360\n",
       "Status                         360\n",
       "Filing on Behalf of Someone    360\n",
       "Month                          360\n",
       "dtype: int64"
      ]
     },
     "execution_count": 272,
     "metadata": {},
     "output_type": "execute_result"
    }
   ],
   "source": [
    "# Finding the count of complaints in whom string contains the keywords related to service issues\n",
    "\n",
    "\n",
    "service_issues1=df[df['Customer Complaint'].str.contains(\"service\")].count()\n",
    "service_issues2=df[df['Customer Complaint'].str.contains(\"customer\")].count()\n",
    "service_issues = service_issues1+service_issues2\n",
    "service_issues"
   ]
  },
  {
   "cell_type": "code",
   "execution_count": 273,
   "id": "a865cdbc",
   "metadata": {},
   "outputs": [
    {
     "data": {
      "text/plain": [
       "Ticket #                       1087\n",
       "Customer Complaint             1087\n",
       "Date                           1087\n",
       "Time                           1087\n",
       "Received Via                   1087\n",
       "City                           1087\n",
       "State                          1087\n",
       "Zip code                       1087\n",
       "Status                         1087\n",
       "Filing on Behalf of Someone    1087\n",
       "Month                          1087\n",
       "dtype: int64"
      ]
     },
     "execution_count": 273,
     "metadata": {},
     "output_type": "execute_result"
    }
   ],
   "source": [
    "Total_issues = internet_issues+billing_issues+service_issues\n",
    "Total_issues           # Total issues corresponding to internet,service and billing"
   ]
  },
  {
   "cell_type": "code",
   "execution_count": 274,
   "id": "0235d8c1",
   "metadata": {},
   "outputs": [
    {
     "data": {
      "text/plain": [
       "Ticket #                       2224\n",
       "Customer Complaint             2224\n",
       "Date                           2224\n",
       "Time                           2224\n",
       "Received Via                   2224\n",
       "City                           2224\n",
       "State                          2224\n",
       "Zip code                       2224\n",
       "Status                         2224\n",
       "Filing on Behalf of Someone    2224\n",
       "Month                          2224\n",
       "dtype: int64"
      ]
     },
     "execution_count": 274,
     "metadata": {},
     "output_type": "execute_result"
    }
   ],
   "source": [
    "df.count()"
   ]
  },
  {
   "cell_type": "markdown",
   "id": "2120fa28",
   "metadata": {},
   "source": [
    "The total issues were 2224, issues related to internet, billing and service were 1087. The rest are other issues"
   ]
  },
  {
   "cell_type": "code",
   "execution_count": 275,
   "id": "22ad0a64",
   "metadata": {},
   "outputs": [
    {
     "data": {
      "text/plain": [
       "array(['Closed', 'Open', 'Solved', 'Pending'], dtype=object)"
      ]
     },
     "execution_count": 275,
     "metadata": {},
     "output_type": "execute_result"
    }
   ],
   "source": [
    "df[\"Status\"].unique()"
   ]
  },
  {
   "cell_type": "code",
   "execution_count": 276,
   "id": "294b2a6f",
   "metadata": {},
   "outputs": [
    {
     "data": {
      "text/plain": [
       "Date_month_year\n",
       "2015-04-22    Closed\n",
       "2015-08-04    Closed\n",
       "2015-04-18    Closed\n",
       "2015-07-05      Open\n",
       "2015-05-26    Closed\n",
       "               ...  \n",
       "2015-02-04    Closed\n",
       "2015-02-06    Closed\n",
       "2015-09-06    Closed\n",
       "2015-06-23    Closed\n",
       "2015-06-24      Open\n",
       "Name: Categorized_status, Length: 2224, dtype: object"
      ]
     },
     "execution_count": 276,
     "metadata": {},
     "output_type": "execute_result"
    }
   ],
   "source": [
    "df[\"Categorized_status\"] = [\"Open\" if Status==\"Open\" or Status==\"Pending\" else \"Closed\" for Status in df[\"Status\"]]\n",
    "df[\"Categorized_status\"]       # Creating a new column with status categorized into open and closed"
   ]
  },
  {
   "cell_type": "code",
   "execution_count": 277,
   "id": "556e3cb5",
   "metadata": {},
   "outputs": [
    {
     "data": {
      "text/plain": [
       "array(['Closed', 'Open'], dtype=object)"
      ]
     },
     "execution_count": 277,
     "metadata": {},
     "output_type": "execute_result"
    }
   ],
   "source": [
    "df[\"Categorized_status\"].unique()"
   ]
  },
  {
   "cell_type": "code",
   "execution_count": 278,
   "id": "28895d3d",
   "metadata": {},
   "outputs": [
    {
     "data": {
      "text/plain": [
       "array(['Maryland', 'Georgia', 'Michigan', 'California', 'New Mexico',\n",
       "       'Indiana', 'Virginia', 'Illinois', 'Pennsylvania', 'Massachusetts',\n",
       "       'Oregon', 'Texas', 'New Hampshire', 'Minnesota', 'Tennessee',\n",
       "       'Colorado', 'Florida', 'Alabama', 'Washington', 'New York',\n",
       "       'New Jersey', 'Maine', 'Missouri', 'West Virginia', 'Montana',\n",
       "       'Mississippi', 'Connecticut', 'Vermont', 'Kentucky',\n",
       "       'South Carolina', 'Ohio', 'Utah', 'Delaware', 'Arkansas', 'Nevada',\n",
       "       'Louisiana', 'Kansas', 'Arizona', 'North Carolina', 'Rhode Island',\n",
       "       'District Of Columbia', 'District of Columbia', 'Iowa'],\n",
       "      dtype=object)"
      ]
     },
     "execution_count": 278,
     "metadata": {},
     "output_type": "execute_result"
    }
   ],
   "source": [
    "df[\"State\"].unique()"
   ]
  },
  {
   "cell_type": "code",
   "execution_count": 279,
   "id": "66743d11",
   "metadata": {},
   "outputs": [
    {
     "data": {
      "text/html": [
       "<div>\n",
       "<style scoped>\n",
       "    .dataframe tbody tr th:only-of-type {\n",
       "        vertical-align: middle;\n",
       "    }\n",
       "\n",
       "    .dataframe tbody tr th {\n",
       "        vertical-align: top;\n",
       "    }\n",
       "\n",
       "    .dataframe thead th {\n",
       "        text-align: right;\n",
       "    }\n",
       "</style>\n",
       "<table border=\"1\" class=\"dataframe\">\n",
       "  <thead>\n",
       "    <tr style=\"text-align: right;\">\n",
       "      <th></th>\n",
       "      <th>State</th>\n",
       "      <th>Categorized_status</th>\n",
       "    </tr>\n",
       "    <tr>\n",
       "      <th>Date_month_year</th>\n",
       "      <th></th>\n",
       "      <th></th>\n",
       "    </tr>\n",
       "  </thead>\n",
       "  <tbody>\n",
       "    <tr>\n",
       "      <th>2015-04-22</th>\n",
       "      <td>Maryland</td>\n",
       "      <td>Closed</td>\n",
       "    </tr>\n",
       "    <tr>\n",
       "      <th>2015-08-04</th>\n",
       "      <td>Georgia</td>\n",
       "      <td>Closed</td>\n",
       "    </tr>\n",
       "    <tr>\n",
       "      <th>2015-04-18</th>\n",
       "      <td>Georgia</td>\n",
       "      <td>Closed</td>\n",
       "    </tr>\n",
       "    <tr>\n",
       "      <th>2015-07-05</th>\n",
       "      <td>Georgia</td>\n",
       "      <td>Open</td>\n",
       "    </tr>\n",
       "    <tr>\n",
       "      <th>2015-05-26</th>\n",
       "      <td>Georgia</td>\n",
       "      <td>Closed</td>\n",
       "    </tr>\n",
       "    <tr>\n",
       "      <th>...</th>\n",
       "      <td>...</td>\n",
       "      <td>...</td>\n",
       "    </tr>\n",
       "    <tr>\n",
       "      <th>2015-02-04</th>\n",
       "      <td>Florida</td>\n",
       "      <td>Closed</td>\n",
       "    </tr>\n",
       "    <tr>\n",
       "      <th>2015-02-06</th>\n",
       "      <td>Michigan</td>\n",
       "      <td>Closed</td>\n",
       "    </tr>\n",
       "    <tr>\n",
       "      <th>2015-09-06</th>\n",
       "      <td>Michigan</td>\n",
       "      <td>Closed</td>\n",
       "    </tr>\n",
       "    <tr>\n",
       "      <th>2015-06-23</th>\n",
       "      <td>Michigan</td>\n",
       "      <td>Closed</td>\n",
       "    </tr>\n",
       "    <tr>\n",
       "      <th>2015-06-24</th>\n",
       "      <td>Michigan</td>\n",
       "      <td>Open</td>\n",
       "    </tr>\n",
       "  </tbody>\n",
       "</table>\n",
       "<p>2224 rows × 2 columns</p>\n",
       "</div>"
      ],
      "text/plain": [
       "                    State Categorized_status\n",
       "Date_month_year                             \n",
       "2015-04-22       Maryland             Closed\n",
       "2015-08-04        Georgia             Closed\n",
       "2015-04-18        Georgia             Closed\n",
       "2015-07-05        Georgia               Open\n",
       "2015-05-26        Georgia             Closed\n",
       "...                   ...                ...\n",
       "2015-02-04        Florida             Closed\n",
       "2015-02-06       Michigan             Closed\n",
       "2015-09-06       Michigan             Closed\n",
       "2015-06-23       Michigan             Closed\n",
       "2015-06-24       Michigan               Open\n",
       "\n",
       "[2224 rows x 2 columns]"
      ]
     },
     "execution_count": 279,
     "metadata": {},
     "output_type": "execute_result"
    }
   ],
   "source": [
    "df1 = df[[\"State\",\"Categorized_status\"]]\n",
    "df1"
   ]
  },
  {
   "cell_type": "code",
   "execution_count": 280,
   "id": "fcfece90",
   "metadata": {},
   "outputs": [
    {
     "name": "stdout",
     "output_type": "stream",
     "text": [
      "Categorized_status    Closed  Open\n",
      "State                             \n",
      "Alabama                 17.0   9.0\n",
      "Arizona                 14.0   6.0\n",
      "Arkansas                 6.0   NaN\n",
      "California             159.0  61.0\n",
      "Colorado                58.0  22.0\n",
      "Connecticut              9.0   3.0\n",
      "Delaware                 8.0   4.0\n",
      "District Of Columbia    14.0   2.0\n",
      "District of Columbia     1.0   NaN\n",
      "Florida                201.0  39.0\n",
      "Georgia                208.0  80.0\n",
      "Illinois               135.0  29.0\n",
      "Indiana                 50.0   9.0\n",
      "Iowa                     1.0   NaN\n",
      "Kansas                   1.0   1.0\n",
      "Kentucky                 4.0   3.0\n",
      "Louisiana               12.0   1.0\n",
      "Maine                    3.0   2.0\n",
      "Maryland                63.0  15.0\n",
      "Massachusetts           50.0  11.0\n",
      "Michigan                92.0  23.0\n",
      "Minnesota               29.0   4.0\n",
      "Mississippi             23.0  16.0\n",
      "Missouri                 3.0   1.0\n",
      "Montana                  1.0   NaN\n",
      "Nevada                   1.0   NaN\n",
      "New Hampshire            8.0   4.0\n",
      "New Jersey              56.0  19.0\n",
      "New Mexico              11.0   4.0\n",
      "New York                 6.0   NaN\n",
      "North Carolina           3.0   NaN\n",
      "Ohio                     3.0   NaN\n",
      "Oregon                  36.0  13.0\n",
      "Pennsylvania           110.0  20.0\n",
      "Rhode Island             1.0   NaN\n",
      "South Carolina          15.0   3.0\n",
      "Tennessee               96.0  47.0\n",
      "Texas                   49.0  22.0\n",
      "Utah                    16.0   6.0\n",
      "Vermont                  2.0   1.0\n",
      "Virginia                49.0  11.0\n",
      "Washington              75.0  23.0\n",
      "West Virginia            8.0   3.0\n"
     ]
    }
   ],
   "source": [
    "df1 = df.groupby([\"State\",\"Categorized_status\"]).size().unstack()    # Grouping based on state and categorized status\n",
    "print(df1)"
   ]
  },
  {
   "cell_type": "code",
   "execution_count": 281,
   "id": "62a714c2",
   "metadata": {},
   "outputs": [
    {
     "data": {
      "text/plain": [
       "<AxesSubplot:xlabel='State'>"
      ]
     },
     "execution_count": 281,
     "metadata": {},
     "output_type": "execute_result"
    },
    {
     "data": {
      "image/png": "[encoded data removed]",
      "text/plain": [
       "<Figure size 432x288 with 1 Axes>"
      ]
     },
     "metadata": {
      "needs_background": "light"
     },
     "output_type": "display_data"
    }
   ],
   "source": [
    "df1.plot.bar(stacked=True)           # Plotting the graph based on above data"
   ]
  },
  {
   "cell_type": "markdown",
   "id": "b37fb4ba",
   "metadata": {},
   "source": [
    "The above graphs shows that Georgia has the highest number of complaints"
   ]
  },
  {
   "cell_type": "code",
   "execution_count": 282,
   "id": "07f03229",
   "metadata": {},
   "outputs": [
    {
     "data": {
      "text/html": [
       "<div>\n",
       "<style scoped>\n",
       "    .dataframe tbody tr th:only-of-type {\n",
       "        vertical-align: middle;\n",
       "    }\n",
       "\n",
       "    .dataframe tbody tr th {\n",
       "        vertical-align: top;\n",
       "    }\n",
       "\n",
       "    .dataframe thead th {\n",
       "        text-align: right;\n",
       "    }\n",
       "</style>\n",
       "<table border=\"1\" class=\"dataframe\">\n",
       "  <thead>\n",
       "    <tr style=\"text-align: right;\">\n",
       "      <th>Categorized_status</th>\n",
       "      <th>Closed</th>\n",
       "      <th>Open</th>\n",
       "    </tr>\n",
       "    <tr>\n",
       "      <th>State</th>\n",
       "      <th></th>\n",
       "      <th></th>\n",
       "    </tr>\n",
       "  </thead>\n",
       "  <tbody>\n",
       "    <tr>\n",
       "      <th>Alabama</th>\n",
       "      <td>17.0</td>\n",
       "      <td>9.0</td>\n",
       "    </tr>\n",
       "    <tr>\n",
       "      <th>Arizona</th>\n",
       "      <td>14.0</td>\n",
       "      <td>6.0</td>\n",
       "    </tr>\n",
       "    <tr>\n",
       "      <th>Arkansas</th>\n",
       "      <td>6.0</td>\n",
       "      <td>NaN</td>\n",
       "    </tr>\n",
       "  </tbody>\n",
       "</table>\n",
       "</div>"
      ],
      "text/plain": [
       "Categorized_status  Closed  Open\n",
       "State                           \n",
       "Alabama               17.0   9.0\n",
       "Arizona               14.0   6.0\n",
       "Arkansas               6.0   NaN"
      ]
     },
     "execution_count": 282,
     "metadata": {},
     "output_type": "execute_result"
    }
   ],
   "source": [
    "df1.head(3)"
   ]
  },
  {
   "cell_type": "code",
   "execution_count": 283,
   "id": "131e52c4",
   "metadata": {},
   "outputs": [
    {
     "data": {
      "text/plain": [
       "State\n",
       "Kansas                  50.000000\n",
       "Kentucky                42.857143\n",
       "Mississippi             41.025641\n",
       "Maine                   40.000000\n",
       "Alabama                 34.615385\n",
       "Vermont                 33.333333\n",
       "Delaware                33.333333\n",
       "New Hampshire           33.333333\n",
       "Tennessee               32.867133\n",
       "Texas                   30.985915\n",
       "Arizona                 30.000000\n",
       "Georgia                 27.777778\n",
       "California              27.727273\n",
       "Colorado                27.500000\n",
       "Utah                    27.272727\n",
       "West Virginia           27.272727\n",
       "New Mexico              26.666667\n",
       "Oregon                  26.530612\n",
       "New Jersey              25.333333\n",
       "Missouri                25.000000\n",
       "Connecticut             25.000000\n",
       "Washington              23.469388\n",
       "Michigan                20.000000\n",
       "Maryland                19.230769\n",
       "Virginia                18.333333\n",
       "Massachusetts           18.032787\n",
       "Illinois                17.682927\n",
       "South Carolina          16.666667\n",
       "Florida                 16.250000\n",
       "Pennsylvania            15.384615\n",
       "Indiana                 15.254237\n",
       "District Of Columbia    12.500000\n",
       "Minnesota               12.121212\n",
       "Louisiana                7.692308\n",
       "Arkansas                      NaN\n",
       "District of Columbia          NaN\n",
       "Iowa                          NaN\n",
       "Montana                       NaN\n",
       "Nevada                        NaN\n",
       "New York                      NaN\n",
       "North Carolina                NaN\n",
       "Ohio                          NaN\n",
       "Rhode Island                  NaN\n",
       "Name: percent_unresolved, dtype: float64"
      ]
     },
     "execution_count": 283,
     "metadata": {},
     "output_type": "execute_result"
    }
   ],
   "source": [
    "df1[\"percent_unresolved\"] = df1[\"Open\"]/(df1[\"Closed\"]+df1[\"Open\"])*100\n",
    "df1[\"percent_unresolved\"].sort_values(ascending=False)    # Finding the percent of unresolved complaints by state and putting them in descending order"
   ]
  },
  {
   "cell_type": "markdown",
   "id": "8049d023",
   "metadata": {},
   "source": [
    "Above output shows that kansas has the highest percentage of unresolved complaints"
   ]
  },
  {
   "cell_type": "code",
   "execution_count": 284,
   "id": "884170b9",
   "metadata": {},
   "outputs": [
    {
     "data": {
      "text/plain": [
       "array(['Customer Care Call', 'Internet'], dtype=object)"
      ]
     },
     "execution_count": 284,
     "metadata": {},
     "output_type": "execute_result"
    }
   ],
   "source": [
    "df[\"Received Via\"].unique()"
   ]
  },
  {
   "cell_type": "code",
   "execution_count": 285,
   "id": "cd986ef5",
   "metadata": {},
   "outputs": [],
   "source": [
    "CustomerCareCall_resolved = df.groupby([\"Categorized_status\"])[\"Received Via\"].value_counts().loc[\"Closed\",\"Customer Care Call\"]   # Closed complaints received via customer care calls\n",
    "Internet_resolved = df.groupby([\"Categorized_status\"])[\"Received Via\"].value_counts().loc[\"Closed\",\"Internet\"]                     # Closed complaints received via internet"
   ]
  },
  {
   "cell_type": "code",
   "execution_count": 286,
   "id": "f8b46eb2",
   "metadata": {},
   "outputs": [
    {
     "data": {
      "text/plain": [
       "1707"
      ]
     },
     "execution_count": 286,
     "metadata": {},
     "output_type": "execute_result"
    }
   ],
   "source": [
    "Total_Closed = (df[\"Categorized_status\"] ==\"Closed\").sum()\n",
    "Total_Closed            # Total closed tickets"
   ]
  },
  {
   "cell_type": "code",
   "execution_count": 287,
   "id": "47349ddb",
   "metadata": {},
   "outputs": [
    {
     "data": {
      "text/plain": [
       "50.61511423550088"
      ]
     },
     "execution_count": 287,
     "metadata": {},
     "output_type": "execute_result"
    }
   ],
   "source": [
    "percent_CustomerCareCall_resolved = CustomerCareCall_resolved/Total_Closed*100\n",
    "percent_CustomerCareCall_resolved           # Percent of complaints received via customer care calls among resolved complaints"
   ]
  },
  {
   "cell_type": "code",
   "execution_count": 288,
   "id": "43a2de95",
   "metadata": {},
   "outputs": [
    {
     "data": {
      "text/plain": [
       "49.38488576449912"
      ]
     },
     "execution_count": 288,
     "metadata": {},
     "output_type": "execute_result"
    }
   ],
   "source": [
    "percent_Internet_resolved = Internet_resolved/Total_Closed*100\n",
    "percent_Internet_resolved                  # Percent of complaints received via internet among resolved complaints      "
   ]
  },
  {
   "cell_type": "markdown",
   "id": "df64ba6c",
   "metadata": {},
   "source": [
    "The above output shows that out of all resolved complaints 50.61% Complaints were of those received from Customer Care Call and 49.39% were of those received via internet."
   ]
  }
 ],
 "metadata": {
  "kernelspec": {
   "display_name": "Python 3 (ipykernel)",
   "language": "python",
   "name": "python3"
  },
  "language_info": {
   "codemirror_mode": {
    "name": "ipython",
    "version": 3
   },
   "file_extension": ".py",
   "mimetype": "text/x-python",
   "name": "python",
   "nbconvert_exporter": "python",
   "pygments_lexer": "ipython3",
   "version": "3.9.13"
  }
 },
 "nbformat": 4,
 "nbformat_minor": 5
}
